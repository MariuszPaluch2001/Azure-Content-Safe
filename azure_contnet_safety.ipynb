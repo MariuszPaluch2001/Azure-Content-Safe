{
  "nbformat": 4,
  "nbformat_minor": 0,
  "metadata": {
    "colab": {
      "provenance": [],
      "authorship_tag": "ABX9TyOUOcllb3HwOZ8hMS6M4+zL"
    },
    "kernelspec": {
      "name": "python3",
      "display_name": "Python 3"
    },
    "language_info": {
      "name": "python"
    }
  },
  "cells": [
    {
      "cell_type": "code",
      "execution_count": null,
      "metadata": {
        "id": "Hqtd6pahSryE"
      },
      "outputs": [],
      "source": [
        "%pip install azure-ai-contentsafety\n",
        "%pip install python-dotenv"
      ]
    },
    {
      "cell_type": "code",
      "source": [
        "from azure.ai.contentsafety import ContentSafetyClient\n",
        "from azure.core.credentials import AzureKeyCredential\n",
        "from azure.core.exceptions import HttpResponseError"
      ],
      "metadata": {
        "id": "7piRd9fzSx5m"
      },
      "execution_count": 112,
      "outputs": []
    },
    {
      "cell_type": "code",
      "source": [
        "from dotenv import load_dotenv\n",
        "import os\n",
        "\n",
        "load_dotenv()"
      ],
      "metadata": {
        "id": "sTSRbGpBkItY"
      },
      "execution_count": null,
      "outputs": []
    },
    {
      "cell_type": "code",
      "source": [
        "apikey = os.getenv(\"AZURE_API_KEY\")\n",
        "endpoint = os.getenv(\"AZURE_ENDPOINT\")"
      ],
      "metadata": {
        "id": "Cu2x3me3SwQN"
      },
      "execution_count": 114,
      "outputs": []
    },
    {
      "cell_type": "code",
      "source": [
        "credential = AzureKeyCredential(apikey)\n",
        "client = ContentSafetyClient(endpoint, credential)"
      ],
      "metadata": {
        "id": "lCfErg9wSzV7"
      },
      "execution_count": 115,
      "outputs": []
    },
    {
      "cell_type": "code",
      "source": [
        "API_KEY = os.getenv(\"PORTAL_API_KEY\")\n",
        "SECRET_KEY = os.getenv(\"PORTAL_SECRET_KEY\")"
      ],
      "metadata": {
        "id": "dNOfSnJPS_sL"
      },
      "execution_count": 116,
      "outputs": []
    },
    {
      "cell_type": "code",
      "source": [
        "import requests\n",
        "\n",
        "result = requests.post(\n",
        "    os.getenv(\"PORTAL_TOKEN_AUTH\"),\n",
        "    json={\"data\": {\"key\": API_KEY, \"secret\": SECRET_KEY}},\n",
        ")"
      ],
      "metadata": {
        "id": "S_iMbU8hTUo9"
      },
      "execution_count": 117,
      "outputs": []
    },
    {
      "cell_type": "code",
      "source": [
        "print(f\"Status code: {result.status_code}\")\n",
        "print(f\"Content: {result.json()}\")\n",
        "\n",
        "data = result.json()\n",
        "token = data['data']['token']\n",
        "\n",
        "token"
      ],
      "metadata": {
        "id": "OfwZvIZOTpIg"
      },
      "execution_count": null,
      "outputs": []
    },
    {
      "cell_type": "code",
      "source": [
        "endpoint = os.getenv(\"PORTAL_DATA_ENDPOINT\")"
      ],
      "metadata": {
        "id": "lspRhs7iZLYd"
      },
      "execution_count": 119,
      "outputs": []
    },
    {
      "cell_type": "code",
      "source": [
        "headers = {\"Authorization\": f\"Bearer {token}\"}\n",
        "\n",
        "data = requests.get(endpoint, headers=headers).json()\n",
        "\n",
        "data = data[\"data\"]"
      ],
      "metadata": {
        "id": "E7MjMXqBVkcm"
      },
      "execution_count": 120,
      "outputs": []
    },
    {
      "cell_type": "code",
      "source": [
        "texts = []\n",
        "images_urls = []\n",
        "\n",
        "for post in data:\n",
        "    if post[\"content\"][0] != \"#\":\n",
        "        texts.append(post[\"content\"])\n",
        "\n",
        "    media = post[\"media\"]\n",
        "    if media is not None:\n",
        "        images_urls.append(media[\"photo\"][\"url\"])"
      ],
      "metadata": {
        "id": "OUn0Us0WZN7O"
      },
      "execution_count": 121,
      "outputs": []
    },
    {
      "cell_type": "code",
      "source": [
        "print(texts)\n",
        "print(images_urls)"
      ],
      "metadata": {
        "id": "gmYCEk8CX9tj"
      },
      "execution_count": null,
      "outputs": []
    },
    {
      "cell_type": "code",
      "source": [
        "from azure.ai.contentsafety.models import TextCategory\n",
        "from azure.ai.contentsafety.models import AnalyzeTextOptions"
      ],
      "metadata": {
        "id": "2HN6G7k2i6FO"
      },
      "execution_count": 123,
      "outputs": []
    },
    {
      "cell_type": "code",
      "source": [
        "for text in texts:\n",
        "    print(f\"Contnet: {text}\")\n",
        "    try:\n",
        "        request = AnalyzeTextOptions(text=text)\n",
        "        response = client.analyze_text(request)\n",
        "    except HttpResponseError as e:\n",
        "        if e.error:\n",
        "            print(f\"Error code: {e.error.code}\")\n",
        "            print(f\"Error message: {e.error.message}\")\n",
        "            raise\n",
        "        print(e)\n",
        "        raise\n",
        "\n",
        "    hate = next(\n",
        "        item\n",
        "        for item in response.categories_analysis\n",
        "        if item.category == TextCategory.HATE\n",
        "    )\n",
        "    self_harm = next(\n",
        "        item\n",
        "        for item in response.categories_analysis\n",
        "        if item.category == TextCategory.SELF_HARM\n",
        "    )\n",
        "    sexual = next(\n",
        "        item\n",
        "        for item in response.categories_analysis\n",
        "        if item.category == TextCategory.SEXUAL\n",
        "    )\n",
        "    violence = next(\n",
        "        item\n",
        "        for item in response.categories_analysis\n",
        "        if item.category == TextCategory.VIOLENCE\n",
        "    )\n",
        "\n",
        "    print(\"-\" * 50)\n",
        "    print(\n",
        "        f\"Hate: {hate.severity}, SelfHarm: {self_harm.severity}, Sexual: {sexual.severity}, Violence: {violence.severity}\"\n",
        "    )\n",
        "    print(\"-\" * 50)\n"
      ],
      "metadata": {
        "id": "qV92U1FDS2Wk"
      },
      "execution_count": null,
      "outputs": []
    },
    {
      "cell_type": "code",
      "source": [
        "from azure.ai.contentsafety.models import ImageCategory\n",
        "from azure.ai.contentsafety.models import AnalyzeImageOptions, ImageData"
      ],
      "metadata": {
        "id": "0sTiJpBLf5O9"
      },
      "execution_count": 125,
      "outputs": []
    },
    {
      "cell_type": "code",
      "source": [
        "for url in images_urls:\n",
        "    print(f\"Contnet: {url}\")\n",
        "    request = AnalyzeImageOptions(image=ImageData(content=requests.get(url).content))\n",
        "\n",
        "    try:\n",
        "        response = client.analyze_image(request)\n",
        "    except HttpResponseError as e:\n",
        "        if e.error:\n",
        "            print(f\"Error code: {e.error.code}\")\n",
        "            print(f\"Error message: {e.error.message}\")\n",
        "        print(e)\n",
        "        continue\n",
        "\n",
        "    hate = next(\n",
        "        item\n",
        "        for item in response.categories_analysis\n",
        "        if item.category == TextCategory.HATE\n",
        "    )\n",
        "    self_harm = next(\n",
        "        item\n",
        "        for item in response.categories_analysis\n",
        "        if item.category == TextCategory.SELF_HARM\n",
        "    )\n",
        "    sexual = next(\n",
        "        item\n",
        "        for item in response.categories_analysis\n",
        "        if item.category == TextCategory.SEXUAL\n",
        "    )\n",
        "    violence = next(\n",
        "        item\n",
        "        for item in response.categories_analysis\n",
        "        if item.category == TextCategory.VIOLENCE\n",
        "    )\n",
        "\n",
        "    print(\"-\" * 50)\n",
        "    print(\n",
        "        f\"Hate: {hate.severity}, SelfHarm: {self_harm.severity}, Sexual: {sexual.severity}, Violence: {violence.severity}\"\n",
        "    )\n",
        "    print(\"-\" * 50)\n"
      ],
      "metadata": {
        "id": "8Z7e5XR2fuzx"
      },
      "execution_count": null,
      "outputs": []
    }
  ]
}